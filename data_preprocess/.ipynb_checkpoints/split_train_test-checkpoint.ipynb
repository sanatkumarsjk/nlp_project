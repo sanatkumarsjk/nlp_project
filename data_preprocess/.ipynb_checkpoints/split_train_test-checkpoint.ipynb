{
 "cells": [
  {
   "cell_type": "code",
   "execution_count": 14,
   "metadata": {},
   "outputs": [],
   "source": [
    "import pandas as pd\n",
    "\n",
    "def read(file):\n",
    "    return pd.read_csv(file)\n",
    "\n",
    "def write(file, data):\n",
    "    data.to_csv(\"data/\"+file,index=False)\n",
    "    \n",
    "sum = read(\"summaries.csv\")\n",
    "qaps = read(\"qaps.csv\")"
   ]
  },
  {
   "cell_type": "code",
   "execution_count": 15,
   "metadata": {},
   "outputs": [],
   "source": [
    "train_sum = sum[sum['set'] == 'train']\n",
    "write('train_sum.csv', train_sum)\n",
    "\n",
    "dev_sum = sum[sum['set'] == 'dev']\n",
    "write('dev_sum.csv', dev_sum)\n",
    "\n",
    "test_sum = sum[sum['set'] == 'test']\n",
    "write('test_sum.csv', test_sum)\n",
    "\n",
    "\n",
    "\n",
    "\n",
    "\n",
    "\n",
    "train_qaps = qaps[qaps['set'] == 'train']\n",
    "write('train_qaps.csv', train_qaps)\n",
    "\n",
    "dev_qaps = qaps[qaps['set'] == 'dev']\n",
    "write('dev_qaps.csv', dev_qaps)\n",
    "\n",
    "test_qaps = qaps[qaps['set'] == 'test']\n",
    "write('test_qaps.csv', test_qaps)\n",
    "\n",
    "\n"
   ]
  },
  {
   "cell_type": "code",
   "execution_count": null,
   "metadata": {},
   "outputs": [],
   "source": []
  },
  {
   "cell_type": "code",
   "execution_count": null,
   "metadata": {},
   "outputs": [],
   "source": []
  }
 ],
 "metadata": {
  "kernelspec": {
   "display_name": "Python 3",
   "language": "python",
   "name": "python3"
  },
  "language_info": {
   "codemirror_mode": {
    "name": "ipython",
    "version": 3
   },
   "file_extension": ".py",
   "mimetype": "text/x-python",
   "name": "python",
   "nbconvert_exporter": "python",
   "pygments_lexer": "ipython3",
   "version": "3.7.2"
  }
 },
 "nbformat": 4,
 "nbformat_minor": 4
}
